{
  "nbformat": 4,
  "nbformat_minor": 0,
  "metadata": {
    "colab": {
      "name": "max/min_pooling.ipynb",
      "provenance": [],
      "authorship_tag": "ABX9TyM5StPzeeaHNkC1vyrxhN+X",
      "include_colab_link": true
    },
    "kernelspec": {
      "name": "python3",
      "display_name": "Python 3"
    },
    "language_info": {
      "name": "python"
    }
  },
  "cells": [
    {
      "cell_type": "markdown",
      "metadata": {
        "id": "view-in-github",
        "colab_type": "text"
      },
      "source": [
        "<a href=\"https://colab.research.google.com/github/zhinoos-adibi/Comupter_Vision/blob/main/max_min_pooling.ipynb\" target=\"_parent\"><img src=\"https://colab.research.google.com/assets/colab-badge.svg\" alt=\"Open In Colab\"/></a>"
      ]
    },
    {
      "cell_type": "markdown",
      "source": [
        "COURSE: A deep understanding of deep learning\n",
        "\n",
        "SECTION: Convolution and transformations\n",
        "\n",
        "LECTURE: Max/mean pooling\n",
        "\n",
        "TEACHER: Mike X Cohen, sincxpress.com\n",
        "\n",
        "COURSE URL: udemy.com/course/dudl/?couponCode=202108\n"
      ],
      "metadata": {
        "id": "YEjWw-G1B9wY"
      }
    },
    {
      "cell_type": "code",
      "source": [
        "# import libraries\n",
        "import torch\n",
        "import torch.nn as nn"
      ],
      "metadata": {
        "id": "6S06Kx73DLbk"
      },
      "execution_count": 5,
      "outputs": []
    },
    {
      "cell_type": "code",
      "source": [
        "# **Create a maxpool instance**\n",
        "# create a pool class instance with parameters\n",
        "\n",
        "# parameters\n",
        "poolSize = 3\n",
        "stride   = 3\n",
        "\n",
        "# create the instance\n",
        "p2 = nn.MaxPool2d(poolSize,stride=3)\n",
        "p3 = nn.MaxPool3d(poolSize,stride=3)\n",
        "\n",
        "# let's have a look at them\n",
        "print(p2)\n",
        "print(p3)\n",
        "\n",
        "#Ceiling mode,is false for rounding down.so avoiding the edges and true for rounding up ,\n",
        "# so including the edges\n"
      ],
      "metadata": {
        "colab": {
          "base_uri": "https://localhost:8080/"
        },
        "id": "X2Vn4voMCNyu",
        "outputId": "db6b02a1-72a3-495f-d124-9bdc911abe69"
      },
      "execution_count": 6,
      "outputs": [
        {
          "output_type": "stream",
          "name": "stdout",
          "text": [
            "MaxPool2d(kernel_size=3, stride=3, padding=0, dilation=1, ceil_mode=False)\n",
            "MaxPool3d(kernel_size=3, stride=3, padding=0, dilation=1, ceil_mode=False)\n"
          ]
        }
      ]
    },
    {
      "cell_type": "code",
      "source": [
        "# Create image and apply maxpooling\n",
        "\n",
        "# create a 2D and a 3D image\n",
        "img2 = torch.randn(1,1,30,30)# gray image\n",
        "img3 = torch.randn(1,3,30,30)# color image\n",
        "\n",
        "\n",
        "# all combinations of image and maxpool dimensionality\n",
        "img2Pool2 = p2(img2)\n",
        "print(f'2D image, 2D maxpool: {img2Pool2.shape}\\n' )\n",
        "\n",
        "# img2Pool3 = p3(img2)# it is not possible to do three dimensional \n",
        "#operation on a two dimensional matrix.\n",
        "# print(f'2D image, 3D maxpool: {img2Pool3.shape}\\n' )\n",
        "\n",
        "img3Pool2 = p2(img3)\n",
        "print(f'3D image, 2D maxpool: {img3Pool2.shape}\\n' )\n",
        "\n",
        "img3Pool3 = p3(img3)\n",
        "print(f'3D image, 3D maxpool: {img3Pool3.shape}\\n' )\n"
      ],
      "metadata": {
        "colab": {
          "base_uri": "https://localhost:8080/"
        },
        "id": "MfX03M05C0qD",
        "outputId": "027277fa-943d-428c-a8bc-0f4a84cd2eb7"
      },
      "execution_count": 7,
      "outputs": [
        {
          "output_type": "stream",
          "name": "stdout",
          "text": [
            "2D image, 2D maxpool: torch.Size([1, 1, 10, 10])\n",
            "\n",
            "3D image, 2D maxpool: torch.Size([1, 3, 10, 10])\n",
            "\n",
            "3D image, 3D maxpool: torch.Size([1, 1, 10, 10])\n",
            "\n"
          ]
        }
      ]
    },
    {
      "cell_type": "code",
      "source": [
        "#**Create a simple CNN**\n",
        "littlenet = nn.Sequential(\n",
        "    \n",
        "    ## the conv-pool block\n",
        "    #these three operations often go together.\n",
        "    #so remember , covolution is a linear operation\n",
        "    nn.Conv2d(3,10,5,3,2), # convolution layer\n",
        "    nn.ReLU(),             # activation function\n",
        "    nn.AvgPool3d(3,3),     # average-pool\n",
        "    \n",
        "    ## the FFN block\n",
        "    nn.Flatten(),          # vectorize to get from image to linear\n",
        "    nn.Linear(588,1),      # FC linear layer\n",
        "    nn.Sigmoid()           # output activation\n",
        "  )"
      ],
      "metadata": {
        "id": "KjjrS3jvC3pK"
      },
      "execution_count": 8,
      "outputs": []
    },
    {
      "cell_type": "code",
      "source": [
        "# test with a bit of data\n",
        "img = torch.rand(1,3,128,128)\n",
        "littlenet(img)"
      ],
      "metadata": {
        "colab": {
          "base_uri": "https://localhost:8080/"
        },
        "id": "-U-6t1PmDAYJ",
        "outputId": "169141ee-b36c-4a2c-aefd-05c3b5cd59bb"
      },
      "execution_count": 9,
      "outputs": [
        {
          "output_type": "execute_result",
          "data": {
            "text/plain": [
              "tensor([[0.4930]], grad_fn=<SigmoidBackward0>)"
            ]
          },
          "metadata": {},
          "execution_count": 9
        }
      ]
    },
    {
      "cell_type": "code",
      "source": [
        ""
      ],
      "metadata": {
        "id": "Xm43Zb-bDV00"
      },
      "execution_count": null,
      "outputs": []
    }
  ]
}